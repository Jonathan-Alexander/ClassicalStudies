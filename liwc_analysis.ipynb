{
 "cells": [
  {
   "cell_type": "code",
   "execution_count": 1,
   "metadata": {
    "collapsed": true
   },
   "outputs": [],
   "source": [
    "import pandas as pd\n",
    "from Liwc import LiwcAnalyzer"
   ]
  },
  {
   "cell_type": "code",
   "execution_count": 2,
   "metadata": {},
   "outputs": [],
   "source": [
    "full_df = pd.read_csv('full-sample.csv')"
   ]
  },
  {
   "cell_type": "code",
   "execution_count": 3,
   "metadata": {},
   "outputs": [],
   "source": [
    "full_df.dropna(axis=0, subset=['Text'], inplace=True)"
   ]
  },
  {
   "cell_type": "code",
   "execution_count": 4,
   "metadata": {},
   "outputs": [],
   "source": [
    "liwc = LiwcAnalyzer('LIWC2007dictionary-poster.xls')\n",
    "liwc_results = liwc.parse(full_df[\"Text\"])"
   ]
  },
  {
   "cell_type": "code",
   "execution_count": 6,
   "metadata": {},
   "outputs": [
    {
     "name": "stdout",
     "output_type": "stream",
     "text": [
      "      wc   sc        wps       dic  sixltr   insight     cause   discrep  \\\n",
      "0   7252  381  19.034121  0.323497    2216  0.143409  0.185328  0.063844   \n",
      "1   3308  152  21.763158  0.305925    1186  0.114268  0.159915  0.039299   \n",
      "2   3568  180  19.822222  0.339406    1175  0.147422  0.191984  0.062500   \n",
      "3  16955  923  18.369447  0.359481    5985  0.140725  0.192981  0.048068   \n",
      "4   4986  331  15.063444  0.376855    1758  0.148616  0.195347  0.048937   \n",
      "\n",
      "     tentat   certain     quant   numbers      PMCID    jargon  \n",
      "0  0.195670  0.119967  0.160507  0.047987  PMC184456  0.676503  \n",
      "1  0.176239  0.090085  0.116385  0.035369  PMC222989  0.694075  \n",
      "2  0.191984  0.120235  0.137332  0.058857  PMC317376  0.660594  \n",
      "3  0.192746  0.107343  0.134710  0.057977  PMC419711  0.640519  \n",
      "4  0.224629  0.126554  0.168071  0.040112  PMC459214  0.623145  \n"
     ]
    }
   ],
   "source": [
    "new_df = pd.DataFrame(liwc_results)\n",
    "new_df['PMCID'] = full_df['PMCID']\n",
    "new_df['jargon'] = liwc_results['dic'].map(lambda r: 1 - r)\n",
    "print(new_df.head())"
   ]
  },
  {
   "cell_type": "code",
   "execution_count": 7,
   "metadata": {},
   "outputs": [
    {
     "data": {
      "text/html": [
       "<div>\n",
       "<style scoped>\n",
       "    .dataframe tbody tr th:only-of-type {\n",
       "        vertical-align: middle;\n",
       "    }\n",
       "\n",
       "    .dataframe tbody tr th {\n",
       "        vertical-align: top;\n",
       "    }\n",
       "\n",
       "    .dataframe thead th {\n",
       "        text-align: right;\n",
       "    }\n",
       "</style>\n",
       "<table border=\"1\" class=\"dataframe\">\n",
       "  <thead>\n",
       "    <tr style=\"text-align: right;\">\n",
       "      <th></th>\n",
       "      <th>wc</th>\n",
       "      <th>sc</th>\n",
       "      <th>wps</th>\n",
       "      <th>dic</th>\n",
       "      <th>sixltr</th>\n",
       "      <th>insight</th>\n",
       "      <th>cause</th>\n",
       "      <th>discrep</th>\n",
       "      <th>tentat</th>\n",
       "      <th>certain</th>\n",
       "      <th>quant</th>\n",
       "      <th>numbers</th>\n",
       "      <th>PMCID</th>\n",
       "      <th>jargon</th>\n",
       "    </tr>\n",
       "  </thead>\n",
       "  <tbody>\n",
       "    <tr>\n",
       "      <th>0</th>\n",
       "      <td>7252</td>\n",
       "      <td>381</td>\n",
       "      <td>19.034121</td>\n",
       "      <td>0.323497</td>\n",
       "      <td>2216</td>\n",
       "      <td>0.143409</td>\n",
       "      <td>0.185328</td>\n",
       "      <td>0.063844</td>\n",
       "      <td>0.195670</td>\n",
       "      <td>0.119967</td>\n",
       "      <td>0.160507</td>\n",
       "      <td>0.047987</td>\n",
       "      <td>PMC184456</td>\n",
       "      <td>0.676503</td>\n",
       "    </tr>\n",
       "    <tr>\n",
       "      <th>1</th>\n",
       "      <td>3308</td>\n",
       "      <td>152</td>\n",
       "      <td>21.763158</td>\n",
       "      <td>0.305925</td>\n",
       "      <td>1186</td>\n",
       "      <td>0.114268</td>\n",
       "      <td>0.159915</td>\n",
       "      <td>0.039299</td>\n",
       "      <td>0.176239</td>\n",
       "      <td>0.090085</td>\n",
       "      <td>0.116385</td>\n",
       "      <td>0.035369</td>\n",
       "      <td>PMC222989</td>\n",
       "      <td>0.694075</td>\n",
       "    </tr>\n",
       "    <tr>\n",
       "      <th>2</th>\n",
       "      <td>3568</td>\n",
       "      <td>180</td>\n",
       "      <td>19.822222</td>\n",
       "      <td>0.339406</td>\n",
       "      <td>1175</td>\n",
       "      <td>0.147422</td>\n",
       "      <td>0.191984</td>\n",
       "      <td>0.062500</td>\n",
       "      <td>0.191984</td>\n",
       "      <td>0.120235</td>\n",
       "      <td>0.137332</td>\n",
       "      <td>0.058857</td>\n",
       "      <td>PMC317376</td>\n",
       "      <td>0.660594</td>\n",
       "    </tr>\n",
       "    <tr>\n",
       "      <th>3</th>\n",
       "      <td>16955</td>\n",
       "      <td>923</td>\n",
       "      <td>18.369447</td>\n",
       "      <td>0.359481</td>\n",
       "      <td>5985</td>\n",
       "      <td>0.140725</td>\n",
       "      <td>0.192981</td>\n",
       "      <td>0.048068</td>\n",
       "      <td>0.192746</td>\n",
       "      <td>0.107343</td>\n",
       "      <td>0.134710</td>\n",
       "      <td>0.057977</td>\n",
       "      <td>PMC419711</td>\n",
       "      <td>0.640519</td>\n",
       "    </tr>\n",
       "    <tr>\n",
       "      <th>4</th>\n",
       "      <td>4986</td>\n",
       "      <td>331</td>\n",
       "      <td>15.063444</td>\n",
       "      <td>0.376855</td>\n",
       "      <td>1758</td>\n",
       "      <td>0.148616</td>\n",
       "      <td>0.195347</td>\n",
       "      <td>0.048937</td>\n",
       "      <td>0.224629</td>\n",
       "      <td>0.126554</td>\n",
       "      <td>0.168071</td>\n",
       "      <td>0.040112</td>\n",
       "      <td>PMC459214</td>\n",
       "      <td>0.623145</td>\n",
       "    </tr>\n",
       "  </tbody>\n",
       "</table>\n",
       "</div>"
      ],
      "text/plain": [
       "      wc   sc        wps       dic  sixltr   insight     cause   discrep  \\\n",
       "0   7252  381  19.034121  0.323497    2216  0.143409  0.185328  0.063844   \n",
       "1   3308  152  21.763158  0.305925    1186  0.114268  0.159915  0.039299   \n",
       "2   3568  180  19.822222  0.339406    1175  0.147422  0.191984  0.062500   \n",
       "3  16955  923  18.369447  0.359481    5985  0.140725  0.192981  0.048068   \n",
       "4   4986  331  15.063444  0.376855    1758  0.148616  0.195347  0.048937   \n",
       "\n",
       "     tentat   certain     quant   numbers      PMCID    jargon  \n",
       "0  0.195670  0.119967  0.160507  0.047987  PMC184456  0.676503  \n",
       "1  0.176239  0.090085  0.116385  0.035369  PMC222989  0.694075  \n",
       "2  0.191984  0.120235  0.137332  0.058857  PMC317376  0.660594  \n",
       "3  0.192746  0.107343  0.134710  0.057977  PMC419711  0.640519  \n",
       "4  0.224629  0.126554  0.168071  0.040112  PMC459214  0.623145  "
      ]
     },
     "execution_count": 7,
     "metadata": {},
     "output_type": "execute_result"
    }
   ],
   "source": [
    "liwc_results.head()\n",
    "# tmp = full_df.join(new_df.set_index('PMCID'), on='PMCID')"
   ]
  },
  {
   "cell_type": "code",
   "execution_count": 37,
   "metadata": {},
   "outputs": [],
   "source": [
    "full_sample_df = pd.read_csv('full-sample-test.csv')\n",
    "full_sample_df.drop(['Unnamed: 0'], axis=1, inplace=True)\n",
    "def myfunc(p):\n",
    "    try:\n",
    "        return float(p)\n",
    "    except:\n",
    "        return float(p.split(',')[0].replace('[', ''))\n",
    "full_sample_df['Journal Impact Factor'] = full_sample_df['Journal Impact Factor'].map(myfunc)"
   ]
  },
  {
   "cell_type": "code",
   "execution_count": 39,
   "metadata": {},
   "outputs": [
    {
     "data": {
      "text/plain": [
       "Journal Title                          object\n",
       "ISSN                                   object\n",
       "eISSN                                  object\n",
       "Year                                    int64\n",
       "Volume                                float64\n",
       "Issue                                  object\n",
       "Page                                   object\n",
       "DOI                                    object\n",
       "PMCID                                  object\n",
       "PMID                                  float64\n",
       "Manuscript Id                          object\n",
       "Release Date                           object\n",
       "File                                   object\n",
       "Article Citation                       object\n",
       "Last Updated (YYYY-MM-DD HH:MM:SS)     object\n",
       "License                                object\n",
       "Retracted                                bool\n",
       "Text                                   object\n",
       "gunning_fog                           float64\n",
       "pos                                   float64\n",
       "neg                                   float64\n",
       "neu                                   float64\n",
       "Citations                               int64\n",
       "Times Cited                             int64\n",
       "Number Authors                          int64\n",
       "Keywords                               object\n",
       "Journal Impact Factor                 float64\n",
       "dtype: object"
      ]
     },
     "execution_count": 39,
     "metadata": {},
     "output_type": "execute_result"
    }
   ],
   "source": [
    "full_sample_df.dtypes"
   ]
  },
  {
   "cell_type": "code",
   "execution_count": 42,
   "metadata": {},
   "outputs": [
    {
     "name": "stdout",
     "output_type": "stream",
     "text": [
      "131\n"
     ]
    }
   ],
   "source": [
    "# Drop rows w/o full text\n",
    "# How many?\n",
    "print(full_sample_df.Text.isnull().sum())\n",
    "full_sample_df = full_sample_df.dropna(axis=0, subset=['Text'])"
   ]
  },
  {
   "cell_type": "code",
   "execution_count": 45,
   "metadata": {},
   "outputs": [
    {
     "data": {
      "text/html": [
       "<div>\n",
       "<style scoped>\n",
       "    .dataframe tbody tr th:only-of-type {\n",
       "        vertical-align: middle;\n",
       "    }\n",
       "\n",
       "    .dataframe tbody tr th {\n",
       "        vertical-align: top;\n",
       "    }\n",
       "\n",
       "    .dataframe thead th {\n",
       "        text-align: right;\n",
       "    }\n",
       "</style>\n",
       "<table border=\"1\" class=\"dataframe\">\n",
       "  <thead>\n",
       "    <tr style=\"text-align: right;\">\n",
       "      <th></th>\n",
       "      <th>Journal Title</th>\n",
       "      <th>ISSN</th>\n",
       "      <th>eISSN</th>\n",
       "      <th>Year</th>\n",
       "      <th>Volume</th>\n",
       "      <th>Issue</th>\n",
       "      <th>Page</th>\n",
       "      <th>DOI</th>\n",
       "      <th>PMCID</th>\n",
       "      <th>PMID</th>\n",
       "      <th>...</th>\n",
       "      <th>Text</th>\n",
       "      <th>gunning_fog</th>\n",
       "      <th>pos</th>\n",
       "      <th>neg</th>\n",
       "      <th>neu</th>\n",
       "      <th>Citations</th>\n",
       "      <th>Times Cited</th>\n",
       "      <th>Number Authors</th>\n",
       "      <th>Keywords</th>\n",
       "      <th>Journal Impact Factor</th>\n",
       "    </tr>\n",
       "    <tr>\n",
       "      <th>Retracted</th>\n",
       "      <th></th>\n",
       "      <th></th>\n",
       "      <th></th>\n",
       "      <th></th>\n",
       "      <th></th>\n",
       "      <th></th>\n",
       "      <th></th>\n",
       "      <th></th>\n",
       "      <th></th>\n",
       "      <th></th>\n",
       "      <th></th>\n",
       "      <th></th>\n",
       "      <th></th>\n",
       "      <th></th>\n",
       "      <th></th>\n",
       "      <th></th>\n",
       "      <th></th>\n",
       "      <th></th>\n",
       "      <th></th>\n",
       "      <th></th>\n",
       "      <th></th>\n",
       "    </tr>\n",
       "  </thead>\n",
       "  <tbody>\n",
       "    <tr>\n",
       "      <th>False</th>\n",
       "      <td>1064</td>\n",
       "      <td>486</td>\n",
       "      <td>1060</td>\n",
       "      <td>1064</td>\n",
       "      <td>1061</td>\n",
       "      <td>609</td>\n",
       "      <td>1064</td>\n",
       "      <td>1024</td>\n",
       "      <td>1064</td>\n",
       "      <td>1051</td>\n",
       "      <td>...</td>\n",
       "      <td>1064</td>\n",
       "      <td>1064</td>\n",
       "      <td>1064</td>\n",
       "      <td>1064</td>\n",
       "      <td>1064</td>\n",
       "      <td>1064</td>\n",
       "      <td>1064</td>\n",
       "      <td>1064</td>\n",
       "      <td>853</td>\n",
       "      <td>1064</td>\n",
       "    </tr>\n",
       "    <tr>\n",
       "      <th>True</th>\n",
       "      <td>1113</td>\n",
       "      <td>526</td>\n",
       "      <td>1108</td>\n",
       "      <td>1113</td>\n",
       "      <td>1104</td>\n",
       "      <td>645</td>\n",
       "      <td>1113</td>\n",
       "      <td>1061</td>\n",
       "      <td>1113</td>\n",
       "      <td>1113</td>\n",
       "      <td>...</td>\n",
       "      <td>1113</td>\n",
       "      <td>1113</td>\n",
       "      <td>1113</td>\n",
       "      <td>1113</td>\n",
       "      <td>1113</td>\n",
       "      <td>1113</td>\n",
       "      <td>1113</td>\n",
       "      <td>1113</td>\n",
       "      <td>904</td>\n",
       "      <td>1113</td>\n",
       "    </tr>\n",
       "  </tbody>\n",
       "</table>\n",
       "<p>2 rows × 26 columns</p>\n",
       "</div>"
      ],
      "text/plain": [
       "           Journal Title  ISSN  eISSN  Year  Volume  Issue  Page   DOI  PMCID  \\\n",
       "Retracted                                                                       \n",
       "False               1064   486   1060  1064    1061    609  1064  1024   1064   \n",
       "True                1113   526   1108  1113    1104    645  1113  1061   1113   \n",
       "\n",
       "           PMID  ...  Text  gunning_fog   pos   neg   neu  Citations  \\\n",
       "Retracted        ...                                                   \n",
       "False      1051  ...  1064         1064  1064  1064  1064       1064   \n",
       "True       1113  ...  1113         1113  1113  1113  1113       1113   \n",
       "\n",
       "           Times Cited  Number Authors  Keywords  Journal Impact Factor  \n",
       "Retracted                                                                \n",
       "False             1064            1064       853                   1064  \n",
       "True              1113            1113       904                   1113  \n",
       "\n",
       "[2 rows x 26 columns]"
      ]
     },
     "execution_count": 45,
     "metadata": {},
     "output_type": "execute_result"
    }
   ],
   "source": [
    "full_sample_df.groupby('Retracted').count()"
   ]
  },
  {
   "cell_type": "code",
   "execution_count": 47,
   "metadata": {},
   "outputs": [
    {
     "data": {
      "text/plain": [
       "Journal Title                         False\n",
       "ISSN                                   True\n",
       "eISSN                                  True\n",
       "Year                                  False\n",
       "Volume                                 True\n",
       "Issue                                  True\n",
       "Page                                  False\n",
       "DOI                                    True\n",
       "PMCID                                 False\n",
       "PMID                                   True\n",
       "Manuscript Id                          True\n",
       "Release Date                          False\n",
       "File                                  False\n",
       "Article Citation                      False\n",
       "Last Updated (YYYY-MM-DD HH:MM:SS)    False\n",
       "License                               False\n",
       "Retracted                             False\n",
       "Text                                  False\n",
       "gunning_fog                           False\n",
       "pos                                   False\n",
       "neg                                   False\n",
       "neu                                   False\n",
       "Citations                             False\n",
       "Times Cited                           False\n",
       "Number Authors                        False\n",
       "Keywords                               True\n",
       "Journal Impact Factor                 False\n",
       "dtype: bool"
      ]
     },
     "execution_count": 47,
     "metadata": {},
     "output_type": "execute_result"
    }
   ],
   "source": [
    "full_sample_df.isnull().any()"
   ]
  },
  {
   "cell_type": "code",
   "execution_count": 48,
   "metadata": {},
   "outputs": [
    {
     "data": {
      "text/plain": [
       "(2177, 27)"
      ]
     },
     "execution_count": 48,
     "metadata": {},
     "output_type": "execute_result"
    }
   ],
   "source": [
    "full_sample_df.shape"
   ]
  },
  {
   "cell_type": "code",
   "execution_count": 49,
   "metadata": {
    "collapsed": true
   },
   "outputs": [],
   "source": [
    "tmp = full_sample_df.join(new_df.set_index('PMCID'), on='PMCID')"
   ]
  },
  {
   "cell_type": "code",
   "execution_count": 50,
   "metadata": {},
   "outputs": [
    {
     "data": {
      "text/plain": [
       "Index(['Journal Title', 'ISSN', 'eISSN', 'Year', 'Volume', 'Issue', 'Page',\n",
       "       'DOI', 'PMCID', 'PMID', 'Manuscript Id', 'Release Date', 'File',\n",
       "       'Article Citation', 'Last Updated (YYYY-MM-DD HH:MM:SS)', 'License',\n",
       "       'Retracted', 'Text', 'gunning_fog', 'pos', 'neg', 'neu', 'Citations',\n",
       "       'Times Cited', 'Number Authors', 'Keywords', 'Journal Impact Factor',\n",
       "       'wc', 'sc', 'wps', 'dic', 'sixltr', 'insight', 'cause', 'discrep',\n",
       "       'tentat', 'certain', 'quant', 'numbers', 'jargon'],\n",
       "      dtype='object')"
      ]
     },
     "execution_count": 50,
     "metadata": {},
     "output_type": "execute_result"
    }
   ],
   "source": [
    "tmp.columns"
   ]
  },
  {
   "cell_type": "code",
   "execution_count": 53,
   "metadata": {},
   "outputs": [],
   "source": [
    "tmp.to_csv('full-data.csv', sep=',', encoding='utf-8', index=False)"
   ]
  },
  {
   "cell_type": "code",
   "execution_count": null,
   "metadata": {
    "collapsed": true
   },
   "outputs": [],
   "source": []
  }
 ],
 "metadata": {
  "kernelspec": {
   "display_name": "Python 3",
   "language": "python",
   "name": "python3"
  },
  "language_info": {
   "codemirror_mode": {
    "name": "ipython",
    "version": 3
   },
   "file_extension": ".py",
   "mimetype": "text/x-python",
   "name": "python",
   "nbconvert_exporter": "python",
   "pygments_lexer": "ipython3",
   "version": "3.6.8"
  }
 },
 "nbformat": 4,
 "nbformat_minor": 2
}
