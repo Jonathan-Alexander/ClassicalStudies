{
 "cells": [
  {
   "cell_type": "code",
   "execution_count": 1,
   "metadata": {
    "collapsed": true
   },
   "outputs": [],
   "source": [
    "# Imports\n",
    "import pandas as pd\n",
    "import numpy as np\n",
    "import matplotlib\n",
    "import matplotlib.pyplot as plt\n",
    "from matplotlib.colors import ListedColormap\n",
    "# Models\n",
    "from sklearn.model_selection import train_test_split\n",
    "from sklearn.preprocessing import StandardScaler\n",
    "from sklearn.neural_network import MLPClassifier\n",
    "from sklearn.neighbors import KNeighborsClassifier\n",
    "from sklearn.svm import SVC\n",
    "from sklearn.gaussian_process import GaussianProcessClassifier\n",
    "from sklearn.gaussian_process.kernels import RBF\n",
    "from sklearn.tree import DecisionTreeClassifier\n",
    "from sklearn.ensemble import RandomForestClassifier, AdaBoostClassifier\n",
    "from sklearn.naive_bayes import GaussianNB\n",
    "from sklearn.discriminant_analysis import QuadraticDiscriminantAnalysis\n",
    "from sklearn.metrics import confusion_matrix\n",
    "from sklearn.svm import LinearSVC\n",
    "from sklearn.linear_model import SGDClassifier\n",
    "from sklearn.kernel_approximation import Nystroem\n",
    "from sklearn.linear_model import SGDClassifier\n",
    "from sklearn.model_selection import train_test_split\n",
    "from sklearn.metrics import confusion_matrix\n",
    "from sklearn.feature_extraction.text import CountVectorizer, TfidfVectorizer, TfidfTransformer\n",
    "from sklearn.pipeline import Pipeline\n",
    "import nltk\n",
    "from sklearn.model_selection import GridSearchCV\n",
    "from sklearn.feature_selection import RFE\n",
    "from sklearn import preprocessing\n",
    "\n",
    "# Stats\n",
    "import scipy.stats\n",
    "\n",
    "# static:\n",
    "%matplotlib inline "
   ]
  },
  {
   "cell_type": "code",
   "execution_count": 2,
   "metadata": {
    "collapsed": true
   },
   "outputs": [],
   "source": [
    "# Read csv\n",
    "data = pd.read_csv('realdata.csv')\n",
    "\n",
    "# Define features and target\n",
    "language = ['gunning_fog', 'pos', 'neg', 'neu', 'wc', 'sc', 'wps', 'dic', 'sixltr', 'insight', 'cause', 'discrep',\n",
    "       'tentat', 'certain', 'quant', 'numbers', 'jargon']\n",
    "metadata = [ 'Citations', 'Times Cited', 'Number Authors', 'Journal Impact Factor']\n",
    "features = language + metadata\n",
    "target = ['Retracted']"
   ]
  },
  {
   "cell_type": "code",
   "execution_count": 3,
   "metadata": {
    "collapsed": true
   },
   "outputs": [],
   "source": [
    "# Filter data for retracted and nonretracted data\n",
    "r_df = data[data['Retracted'] == True]\n",
    "r_df = r_df.drop(['Retracted'], axis=1)\n",
    "r_df = r_df[features]\n",
    "\n",
    "n_df = data[data['Retracted'] == False]\n",
    "n_df = n_df.drop(['Retracted'], axis=1)\n",
    "n_df = n_df[features]"
   ]
  },
  {
   "cell_type": "code",
   "execution_count": 22,
   "metadata": {},
   "outputs": [
    {
     "name": "stdout",
     "output_type": "stream",
     "text": [
      "num retracted = 1113\n",
      "num not retracted = 1064\n",
      "('tentat', MannwhitneyuResult(statistic=523159.0, pvalue=1.2788636518920162e-06))\n",
      "('dic', MannwhitneyuResult(statistic=534080.5, pvalue=3.770717660854322e-05))\n",
      "('jargon', MannwhitneyuResult(statistic=534080.5, pvalue=3.770717660854322e-05))\n",
      "('Citations', MannwhitneyuResult(statistic=550315.0, pvalue=0.0014658053591027683))\n",
      "('quant', MannwhitneyuResult(statistic=549616.5, pvalue=0.001872817419119408))\n",
      "('gunning_fog', MannwhitneyuResult(statistic=551929.5, pvalue=0.003062035685784797))\n",
      "('numbers', MannwhitneyuResult(statistic=558166.0, pvalue=0.010287949467092659))\n",
      "('discrep', MannwhitneyuResult(statistic=561466.0, pvalue=0.018280289053912508))\n",
      "('insight', MannwhitneyuResult(statistic=563385.5, pvalue=0.02501824137157632))\n",
      "('cause', MannwhitneyuResult(statistic=568643.5, pvalue=0.05468757747056619))\n",
      "('Number Authors', MannwhitneyuResult(statistic=570253.5, pvalue=0.06674696311324145))\n",
      "('Times Cited', MannwhitneyuResult(statistic=571087.0, pvalue=0.07570944139743424))\n",
      "('pos', MannwhitneyuResult(statistic=571201.5, pvalue=0.07683479539711252))\n",
      "('certain', MannwhitneyuResult(statistic=575873.0, pvalue=0.1339548836151893))\n",
      "('wc', MannwhitneyuResult(statistic=576147.5, pvalue=0.13804047281357362))\n",
      "('neg', MannwhitneyuResult(statistic=577539.0, pvalue=0.16003070418107362))\n",
      "('sc', MannwhitneyuResult(statistic=578571.0, pvalue=0.17777917863152676))\n",
      "('sixltr', MannwhitneyuResult(statistic=581148.0, pvalue=0.2272043969429492))\n",
      "('wps', MannwhitneyuResult(statistic=584741.0, pvalue=0.3074789244200128))\n",
      "('neu', MannwhitneyuResult(statistic=587886.0, pvalue=0.38648123128455875))\n",
      "('Journal Impact Factor', MannwhitneyuResult(statistic=590400.5, pvalue=0.45248867305363))\n",
      "9\n",
      "21\n"
     ]
    }
   ],
   "source": [
    "# H0: Sample distributions are equal\n",
    "lst = []\n",
    "for col in features:\n",
    "    lst.append((col, scipy.stats.mannwhitneyu(r_df[col], n_df[col])))\n",
    "\n",
    "print('num retracted =', r_df.shape[0])\n",
    "print('num not retracted =', n_df.shape[0])\n",
    "count = 0\n",
    "for elt in sorted(lst, key=lambda t: t[1].pvalue):\n",
    "    if elt[1].pvalue < 0.05:\n",
    "        count += 1\n",
    "    print(elt)\n",
    "print(count)\n",
    "print(len(lst))"
   ]
  },
  {
   "cell_type": "code",
   "execution_count": 23,
   "metadata": {
    "collapsed": true
   },
   "outputs": [],
   "source": [
    "alpha = 0.10\n",
    "best_features = [elt[0] for elt in sorted(lst, key=lambda t: t[1].pvalue) if elt[1].pvalue > alpha]"
   ]
  },
  {
   "cell_type": "code",
   "execution_count": 24,
   "metadata": {},
   "outputs": [
    {
     "data": {
      "text/plain": [
       "['certain', 'wc', 'neg', 'sc', 'sixltr', 'wps', 'neu', 'Journal Impact Factor']"
      ]
     },
     "execution_count": 24,
     "metadata": {},
     "output_type": "execute_result"
    }
   ],
   "source": [
    "best_features"
   ]
  },
  {
   "cell_type": "code",
   "execution_count": null,
   "metadata": {},
   "outputs": [],
   "source": []
  },
  {
   "cell_type": "code",
   "execution_count": 19,
   "metadata": {},
   "outputs": [
    {
     "data": {
      "text/plain": [
       "<matplotlib.figure.Figure at 0x1a1d498be0>"
      ]
     },
     "metadata": {},
     "output_type": "display_data"
    },
    {
     "data": {
      "image/png": "[encoded data removed]",
      "text/plain": [
       "<matplotlib.figure.Figure at 0x1a1daed940>"
      ]
     },
     "metadata": {},
     "output_type": "display_data"
    }
   ],
   "source": [
    "# Examine Best Metadata Features\n",
    "new_data = data.copy()\n",
    "liwc = ['insight', 'cause', 'discrep','tentat', 'certain', 'quant', 'numbers', 'jargon', 'dic', 'pos']\n",
    "best_features_no_liwc = list(set(best_features) & set(metadata))\n",
    "new_data[liwc] *= 100\n",
    "graph_df = new_data.groupby('Retracted', as_index=True)[best_features_no_liwc].mean().transpose()\n",
    "\n",
    "width = 0.2\n",
    "plt.figure(figsize=(20,20))\n",
    "fig, ax = plt.subplots()\n",
    "ax.barh(graph_df.index, graph_df[graph_df.columns[0]], width, label='Unretracted', align='edge')\n",
    "ax.barh(graph_df.index, graph_df[graph_df.columns[1]], -width, label='Retracted', align='edge')\n",
    "plt.title('Significant Metadata Features')\n",
    "plt.legend(loc='best')\n",
    "plt.xlabel('Counts')\n",
    "\n",
    "plt.tight_layout()\n",
    "plt.savefig('barchart_metadata.png', dpi=400)\n",
    "\n",
    "plt.show()"
   ]
  },
  {
   "cell_type": "code",
   "execution_count": 18,
   "metadata": {},
   "outputs": [
    {
     "data": {
      "text/plain": [
       "<matplotlib.figure.Figure at 0x1a13c80a90>"
      ]
     },
     "metadata": {},
     "output_type": "display_data"
    },
    {
     "data": {
      "image/png": "[encoded data removed]",
      "text/plain": [
       "<matplotlib.figure.Figure at 0x1a1f32ae80>"
      ]
     },
     "metadata": {},
     "output_type": "display_data"
    }
   ],
   "source": [
    "# Examine Best Features w/LIWC\n",
    "new_data = data.copy()\n",
    "liwc = ['insight', 'cause', 'discrep','tentat', 'certain', 'quant', 'numbers', 'jargon', 'dic', 'pos']\n",
    "\n",
    "best_features_liwc = list(set(best_features) & set(language))\n",
    "# Examine Best Features\n",
    "new_data = data.copy()\n",
    "liwc = ['insight', 'cause', 'discrep','tentat', 'certain', 'quant', 'numbers', 'jargon', 'dic', 'pos']\n",
    "new_data[liwc] *= 100\n",
    "graph_df = new_data.groupby('Retracted', as_index=True)[best_features_liwc].mean().transpose()\n",
    "\n",
    "width = 0.2\n",
    "plt.figure(figsize=(10,10))\n",
    "fig, ax = plt.subplots()\n",
    "ax.barh(graph_df.index, graph_df[graph_df.columns[0]], width, label='Unretracted', align='edge')\n",
    "ax.barh(graph_df.index, graph_df[graph_df.columns[1]], -width, label='Retracted', align='edge')\n",
    "plt.title('Significant Linguistic Features')\n",
    "plt.legend(loc='best')\n",
    "plt.xlabel('Percentage of Target Words')\n",
    "plt.tight_layout()\n",
    "plt.savefig('barchart_linguistic.png', dpi=400)\n",
    "plt.show()"
   ]
  },
  {
   "cell_type": "code",
   "execution_count": null,
   "metadata": {},
   "outputs": [],
   "source": []
  },
  {
   "cell_type": "code",
   "execution_count": 9,
   "metadata": {},
   "outputs": [
    {
     "name": "stderr",
     "output_type": "stream",
     "text": [
      "/Users/henrywang/anaconda3/lib/python3.6/site-packages/sklearn/utils/validation.py:578: DataConversionWarning: A column-vector y was passed when a 1d array was expected. Please change the shape of y to (n_samples, ), for example using ravel().\n",
      "  y = column_or_1d(y, warn=True)\n"
     ]
    },
    {
     "name": "stdout",
     "output_type": "stream",
     "text": [
      "0.55188246097337 -- Ada Boost\n"
     ]
    },
    {
     "data": {
      "image/png": "[encoded data removed]",
      "text/plain": [
       "<matplotlib.figure.Figure at 0x1a141c1198>"
      ]
     },
     "metadata": {},
     "output_type": "display_data"
    }
   ],
   "source": [
    "clf = AdaBoostClassifier()\n",
    "name = 'Ada Boost'\n",
    "X = data[features]\n",
    "y = data[target]\n",
    "\n",
    "X_train, X_test, Y_train, Y_test = train_test_split(X, y, random_state=41, test_size=0.50)\n",
    "\n",
    "clf.fit(X_train, Y_train)\n",
    "score = clf.score(X_test, Y_test)    \n",
    "print(\"{} -- {}\".format(score, name))\n",
    "y_pred = clf.predict(X_test)\n",
    "con_matrix = confusion_matrix(Y_test, y_pred)\n",
    "plt.matshow(con_matrix)\n",
    "plt.title('Confusion matrix')\n",
    "plt.colorbar()\n",
    "plt.ylabel('True label')\n",
    "plt.xlabel('Predicted label')\n",
    "plt.show()"
   ]
  },
  {
   "cell_type": "code",
   "execution_count": 10,
   "metadata": {},
   "outputs": [
    {
     "name": "stderr",
     "output_type": "stream",
     "text": [
      "/Users/henrywang/anaconda3/lib/python3.6/site-packages/ipykernel_launcher.py:26: DataConversionWarning: A column-vector y was passed when a 1d array was expected. Please change the shape of y to (n_samples, ), for example using ravel().\n",
      "/Users/henrywang/anaconda3/lib/python3.6/site-packages/sklearn/utils/validation.py:578: DataConversionWarning: A column-vector y was passed when a 1d array was expected. Please change the shape of y to (n_samples, ), for example using ravel().\n",
      "  y = column_or_1d(y, warn=True)\n"
     ]
    },
    {
     "name": "stdout",
     "output_type": "stream",
     "text": [
      "0.5412844036697247 -- Nearest Neighbors\n",
      "0.5229357798165137 -- Linear SVM\n",
      "0.48073394495412847 -- RBF SVM\n",
      "0.5119266055045871 -- Decision Tree\n",
      "0.5229357798165137 -- Random Forest\n"
     ]
    },
    {
     "name": "stderr",
     "output_type": "stream",
     "text": [
      "/Users/henrywang/anaconda3/lib/python3.6/site-packages/ipykernel_launcher.py:26: DataConversionWarning: A column-vector y was passed when a 1d array was expected. Please change the shape of y to (n_samples,), for example using ravel().\n",
      "/Users/henrywang/anaconda3/lib/python3.6/site-packages/sklearn/neural_network/multilayer_perceptron.py:912: DataConversionWarning: A column-vector y was passed when a 1d array was expected. Please change the shape of y to (n_samples, ), for example using ravel().\n",
      "  y = column_or_1d(y, warn=True)\n"
     ]
    },
    {
     "name": "stdout",
     "output_type": "stream",
     "text": [
      "0.5577981651376147 -- Neural Net\n"
     ]
    },
    {
     "name": "stderr",
     "output_type": "stream",
     "text": [
      "/Users/henrywang/anaconda3/lib/python3.6/site-packages/sklearn/utils/validation.py:578: DataConversionWarning: A column-vector y was passed when a 1d array was expected. Please change the shape of y to (n_samples, ), for example using ravel().\n",
      "  y = column_or_1d(y, warn=True)\n"
     ]
    },
    {
     "name": "stdout",
     "output_type": "stream",
     "text": [
      "0.5541284403669725 -- AdaBoost\n",
      "0.5339449541284403 -- Naive Bayes\n"
     ]
    },
    {
     "name": "stderr",
     "output_type": "stream",
     "text": [
      "/Users/henrywang/anaconda3/lib/python3.6/site-packages/sklearn/utils/validation.py:578: DataConversionWarning: A column-vector y was passed when a 1d array was expected. Please change the shape of y to (n_samples, ), for example using ravel().\n",
      "  y = column_or_1d(y, warn=True)\n",
      "/Users/henrywang/anaconda3/lib/python3.6/site-packages/sklearn/discriminant_analysis.py:682: UserWarning: Variables are collinear\n",
      "  warnings.warn(\"Variables are collinear\")\n"
     ]
    },
    {
     "name": "stdout",
     "output_type": "stream",
     "text": [
      "0.5284403669724771 -- QDA\n",
      "0.5266055045871559 -- Linear SVC\n",
      "0.5155963302752293 -- SGD\n"
     ]
    }
   ],
   "source": [
    "h = .02  # step size in the mesh\n",
    "names = [\"Nearest Neighbors\", \"Linear SVM\", \"RBF SVM\",\n",
    "         \"Decision Tree\", \"Random Forest\", \"Neural Net\", \"AdaBoost\",\n",
    "         \"Naive Bayes\", \"QDA\", \"Linear SVC\", \"SGD\"]\n",
    "classifiers = [\n",
    "    KNeighborsClassifier(3),\n",
    "    SVC(kernel=\"linear\", C=0.025),\n",
    "    SVC(gamma=2, C=1),\n",
    "#     GaussianProcessClassifier(1.0 * RBF(1.0)),\n",
    "    DecisionTreeClassifier(max_depth=5),\n",
    "    RandomForestClassifier(max_depth=5, n_estimators=10, max_features=1),\n",
    "    MLPClassifier(alpha=1),\n",
    "    AdaBoostClassifier(),\n",
    "    GaussianNB(),\n",
    "    QuadraticDiscriminantAnalysis(),\n",
    "    LinearSVC(),\n",
    "    SGDClassifier(max_iter=1000,shuffle=True)]\n",
    "\n",
    "X = data[features]\n",
    "X = preprocessing.scale(X)\n",
    "y = data[target]\n",
    "\n",
    "X_train, X_test, Y_train, Y_test = train_test_split(X, y, random_state=41)\n",
    "\n",
    "for name, clf in zip(names, classifiers):\n",
    "    clf.fit(X_train, Y_train)\n",
    "    score = clf.score(X_test, Y_test)    \n",
    "    print(\"{} -- {}\".format(score, name))\n",
    "    # y_pred = clf.predict(X_test)\n",
    "    # con_matrix = confusion_matrix(Y_test, y_pred)\n",
    "    # Uncomment for confusion matrix plot\n",
    "    # plt.matshow(con_matrix)\n",
    "    # plt.title('Confusion matrix')\n",
    "    # plt.colorbar()\n",
    "    # plt.ylabel('True label')\n",
    "    # plt.xlabel('Predicted label')\n",
    "    # plt.show()"
   ]
  },
  {
   "cell_type": "code",
   "execution_count": 25,
   "metadata": {},
   "outputs": [
    {
     "name": "stderr",
     "output_type": "stream",
     "text": [
      "/Users/henrywang/anaconda3/lib/python3.6/site-packages/sklearn/utils/validation.py:578: DataConversionWarning: A column-vector y was passed when a 1d array was expected. Please change the shape of y to (n_samples, ), for example using ravel().\n",
      "  y = column_or_1d(y, warn=True)\n"
     ]
    },
    {
     "name": "stdout",
     "output_type": "stream",
     "text": [
      "0.5541284403669725 -- Ada Boost\n"
     ]
    },
    {
     "data": {
      "image/png": "[encoded data removed]",
      "text/plain": [
       "<matplotlib.figure.Figure at 0x1a13818c18>"
      ]
     },
     "metadata": {},
     "output_type": "display_data"
    }
   ],
   "source": [
    "clf = AdaBoostClassifier()\n",
    "name = 'Ada Boost'\n",
    "X = data[features]\n",
    "y = data[target]\n",
    "\n",
    "X_train, X_test, Y_train, Y_test = train_test_split(X, y, random_state=41)\n",
    "\n",
    "clf.fit(X_train, Y_train)\n",
    "score = clf.score(X_test, Y_test)    \n",
    "print(\"{} -- {}\".format(score, name))\n",
    "y_pred = clf.predict(X_test)\n",
    "con_matrix = confusion_matrix(Y_test, y_pred)\n",
    "plt.matshow(con_matrix)\n",
    "plt.title('Confusion matrix')\n",
    "plt.colorbar()\n",
    "plt.ylabel('True label')\n",
    "plt.xlabel('Predicted label')\n",
    "plt.show()"
   ]
  },
  {
   "cell_type": "code",
   "execution_count": 30,
   "metadata": {},
   "outputs": [
    {
     "name": "stderr",
     "output_type": "stream",
     "text": [
      "/Users/henrywang/anaconda3/lib/python3.6/site-packages/sklearn/utils/validation.py:578: DataConversionWarning: A column-vector y was passed when a 1d array was expected. Please change the shape of y to (n_samples, ), for example using ravel().\n",
      "  y = column_or_1d(y, warn=True)\n"
     ]
    },
    {
     "name": "stdout",
     "output_type": "stream",
     "text": [
      "[False False False False False False False False False False False False\n",
      " False False  True False False False False False False]\n",
      "[11 12 13 16  9 15  4 18  2  3  5 10  8 14  1  6  7 21 17 20 19]\n"
     ]
    }
   ],
   "source": [
    "X = data[features]\n",
    "y = data[target]\n",
    "# Using AdaBoost classifier\n",
    "estimator = RandomForestClassifier()\n",
    "selector = RFE(estimator, n_features_to_select=1, step=1)\n",
    "\n",
    "selector = selector.fit(X, y)\n",
    "print(selector.support_)\n",
    "print(selector.ranking_)"
   ]
  },
  {
   "cell_type": "code",
   "execution_count": 31,
   "metadata": {},
   "outputs": [
    {
     "data": {
      "text/plain": [
       "['quant']"
      ]
     },
     "execution_count": 31,
     "metadata": {},
     "output_type": "execute_result"
    }
   ],
   "source": [
    "# Mask of selected features\n",
    "mask = selector.support_\n",
    "selected = []\n",
    "for feat, mask_val in zip(features, mask):\n",
    "    if mask_val:\n",
    "        selected.append(feat)\n",
    "selected"
   ]
  },
  {
   "cell_type": "code",
   "execution_count": 32,
   "metadata": {},
   "outputs": [
    {
     "name": "stdout",
     "output_type": "stream",
     "text": [
      "Rank: 1 quant\n",
      "Rank: 2 sixltr\n",
      "Rank: 3 insight\n",
      "Rank: 4 wps\n",
      "Rank: 5 cause\n",
      "Rank: 6 numbers\n",
      "Rank: 7 jargon\n",
      "Rank: 8 tentat\n",
      "Rank: 9 wc\n",
      "Rank: 10 discrep\n",
      "Rank: 11 gunning_fog\n",
      "Rank: 12 pos\n",
      "Rank: 13 neg\n",
      "Rank: 14 certain\n",
      "Rank: 15 sc\n",
      "Rank: 16 neu\n",
      "Rank: 17 Times Cited\n",
      "Rank: 18 dic\n",
      "Rank: 19 Journal Impact Factor\n",
      "Rank: 20 Number Authors\n",
      "Rank: 21 Citations\n"
     ]
    }
   ],
   "source": [
    "ranks = selector.ranking_\n",
    "rankings = list(zip(features, ranks))\n",
    "sorted_rankings = sorted(rankings, key=lambda t: t[1])\n",
    "for feat, rank in sorted_rankings:\n",
    "    print('Rank:', rank, feat)"
   ]
  },
  {
   "cell_type": "code",
   "execution_count": null,
   "metadata": {
    "collapsed": true
   },
   "outputs": [],
   "source": []
  }
 ],
 "metadata": {
  "kernelspec": {
   "display_name": "Python 3",
   "language": "python",
   "name": "python3"
  },
  "language_info": {
   "codemirror_mode": {
    "name": "ipython",
    "version": 3
   },
   "file_extension": ".py",
   "mimetype": "text/x-python",
   "name": "python",
   "nbconvert_exporter": "python",
   "pygments_lexer": "ipython3",
   "version": "3.6.8"
  }
 },
 "nbformat": 4,
 "nbformat_minor": 2
}
