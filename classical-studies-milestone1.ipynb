{
 "cells": [
  {
   "cell_type": "markdown",
   "metadata": {},
   "source": [
    "# Classical Studies\n",
    "## Practicum Milestone 1\n",
    "\n"
   ]
  },
  {
   "cell_type": "code",
   "execution_count": null,
   "metadata": {
    "collapsed": true
   },
   "outputs": [],
   "source": []
  },
  {
   "cell_type": "code",
   "execution_count": null,
   "metadata": {
    "collapsed": true
   },
   "outputs": [],
   "source": [
    "#Test script of integrating the open retraction database with PMC Data\n",
    "#Takes ID of article from articles list and prints JSON of it it's retracted\n",
    "\n",
    "import requests # pip install requests\n",
    "import csv"
   ]
  },
  {
   "cell_type": "code",
   "execution_count": 2,
   "metadata": {},
   "outputs": [],
   "source": [
    "def get_dois(filename):\n",
    "    with open(filename, mode='r') as csv_file:\n",
    "        csv_reader = csv.DictReader(csv_file)\n",
    "        for row in csv_reader:\n",
    "            # Instead of printing, make a GET request with each row[\"DOI\"]\n",
    "            # print(row[\"DOI\"] + '\\n')\n",
    "            print(is_retracted(row['DOI']))\n",
    "\n",
    "def is_retracted(doi):\n",
    "    r = requests.get('http://openretractions.com/api/doi/{}/data.json'.format(doi)).json()\n",
    "    # print(r)\n",
    "    if 'retracted' in r and r['retracted']:\n",
    "        return True\n",
    "    return False"
   ]
  },
  {
   "cell_type": "code",
   "execution_count": null,
   "metadata": {
    "collapsed": true
   },
   "outputs": [],
   "source": []
  }
 ],
 "metadata": {
  "kernelspec": {
   "display_name": "Python 3",
   "language": "python",
   "name": "python3"
  },
  "language_info": {
   "codemirror_mode": {
    "name": "ipython",
    "version": 3
   },
   "file_extension": ".py",
   "mimetype": "text/x-python",
   "name": "python",
   "nbconvert_exporter": "python",
   "pygments_lexer": "ipython3",
   "version": "3.6.3"
  }
 },
 "nbformat": 4,
 "nbformat_minor": 2
}
